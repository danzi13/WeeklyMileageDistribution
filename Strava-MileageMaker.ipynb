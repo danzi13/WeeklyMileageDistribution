{
  "nbformat": 4,
  "nbformat_minor": 0,
  "metadata": {
    "colab": {
      "name": "Copy of Strava_Mileage_Maker",
      "provenance": [],
      "authorship_tag": "ABX9TyNpakX1lHkSA/O8jFjL4vwL",
      "include_colab_link": true
    },
    "kernelspec": {
      "name": "python3",
      "display_name": "Python 3"
    },
    "language_info": {
      "name": "python"
    }
  },
  "cells": [
    {
      "cell_type": "markdown",
      "metadata": {
        "id": "view-in-github",
        "colab_type": "text"
      },
      "source": [
        "<a href=\"https://colab.research.google.com/github/danzi13/WeeklyMileageDistribution/blob/main/Strava-MileageMaker.ipynb\" target=\"_parent\"><img src=\"https://colab.research.google.com/assets/colab-badge.svg\" alt=\"Open In Colab\"/></a>"
      ]
    },
    {
      "cell_type": "code",
      "source": [
        "!pip install stravaio folium"
      ],
      "metadata": {
        "colab": {
          "base_uri": "https://localhost:8080/"
        },
        "id": "2qnhx-hK-F-B",
        "outputId": "6f4179fc-65f6-4750-f3d5-34feaab02034"
      },
      "execution_count": null,
      "outputs": [
        {
          "output_type": "stream",
          "name": "stdout",
          "text": [
            "Looking in indexes: https://pypi.org/simple, https://us-python.pkg.dev/colab-wheels/public/simple/\n",
            "Collecting stravaio\n",
            "  Downloading stravaio-0.0.9-py2.py3-none-any.whl (154 kB)\n",
            "\u001b[K     |████████████████████████████████| 154 kB 5.9 MB/s \n",
            "\u001b[?25hRequirement already satisfied: folium in /usr/local/lib/python3.7/dist-packages (0.8.3)\n",
            "Requirement already satisfied: urllib3 in /usr/local/lib/python3.7/dist-packages (from stravaio) (1.24.3)\n",
            "Collecting loguru\n",
            "  Downloading loguru-0.6.0-py3-none-any.whl (58 kB)\n",
            "\u001b[K     |████████████████████████████████| 58 kB 1.8 MB/s \n",
            "\u001b[?25hCollecting maya\n",
            "  Downloading maya-0.6.1-py2.py3-none-any.whl (12 kB)\n",
            "Requirement already satisfied: certifi in /usr/local/lib/python3.7/dist-packages (from stravaio) (2022.6.15)\n",
            "Requirement already satisfied: requests in /usr/local/lib/python3.7/dist-packages (from stravaio) (2.23.0)\n",
            "Requirement already satisfied: pandas in /usr/local/lib/python3.7/dist-packages (from stravaio) (1.3.5)\n",
            "Requirement already satisfied: pyarrow in /usr/local/lib/python3.7/dist-packages (from stravaio) (6.0.1)\n",
            "Requirement already satisfied: jinja2 in /usr/local/lib/python3.7/dist-packages (from folium) (2.11.3)\n",
            "Requirement already satisfied: six in /usr/local/lib/python3.7/dist-packages (from folium) (1.15.0)\n",
            "Requirement already satisfied: branca>=0.3.0 in /usr/local/lib/python3.7/dist-packages (from folium) (0.5.0)\n",
            "Requirement already satisfied: numpy in /usr/local/lib/python3.7/dist-packages (from folium) (1.21.6)\n",
            "Requirement already satisfied: MarkupSafe>=0.23 in /usr/local/lib/python3.7/dist-packages (from jinja2->folium) (2.0.1)\n",
            "Requirement already satisfied: pytz in /usr/local/lib/python3.7/dist-packages (from maya->stravaio) (2022.1)\n",
            "Collecting pendulum>=2.0.2\n",
            "  Downloading pendulum-2.1.2-cp37-cp37m-manylinux1_x86_64.whl (155 kB)\n",
            "\u001b[K     |████████████████████████████████| 155 kB 22.9 MB/s \n",
            "\u001b[?25hCollecting snaptime\n",
            "  Downloading snaptime-0.2.4.tar.gz (2.9 kB)\n",
            "Requirement already satisfied: humanize in /usr/local/lib/python3.7/dist-packages (from maya->stravaio) (0.5.1)\n",
            "Requirement already satisfied: tzlocal in /usr/local/lib/python3.7/dist-packages (from maya->stravaio) (1.5.1)\n",
            "Collecting dateparser>=0.7.0\n",
            "  Downloading dateparser-1.1.1-py2.py3-none-any.whl (288 kB)\n",
            "\u001b[K     |████████████████████████████████| 288 kB 40.0 MB/s \n",
            "\u001b[?25hCollecting regex!=2019.02.19,!=2021.8.27,<2022.3.15\n",
            "  Downloading regex-2022.3.2-cp37-cp37m-manylinux_2_17_x86_64.manylinux2014_x86_64.whl (749 kB)\n",
            "\u001b[K     |████████████████████████████████| 749 kB 39.1 MB/s \n",
            "\u001b[?25hRequirement already satisfied: python-dateutil in /usr/local/lib/python3.7/dist-packages (from dateparser>=0.7.0->maya->stravaio) (2.8.2)\n",
            "Collecting pytzdata>=2020.1\n",
            "  Downloading pytzdata-2020.1-py2.py3-none-any.whl (489 kB)\n",
            "\u001b[K     |████████████████████████████████| 489 kB 42.5 MB/s \n",
            "\u001b[?25hRequirement already satisfied: idna<3,>=2.5 in /usr/local/lib/python3.7/dist-packages (from requests->stravaio) (2.10)\n",
            "Requirement already satisfied: chardet<4,>=3.0.2 in /usr/local/lib/python3.7/dist-packages (from requests->stravaio) (3.0.4)\n",
            "Building wheels for collected packages: snaptime\n",
            "  Building wheel for snaptime (setup.py) ... \u001b[?25l\u001b[?25hdone\n",
            "  Created wheel for snaptime: filename=snaptime-0.2.4-py3-none-any.whl size=3593 sha256=fb32befc2aacc16ab1f1bccd8190bb803bd9ad8050088f3e7a9a91ae3f8e0455\n",
            "  Stored in directory: /root/.cache/pip/wheels/e5/f2/0e/994dee3bb4e289095bfd938b21e542c8fd09e35a4d5fae6b06\n",
            "Successfully built snaptime\n",
            "Installing collected packages: regex, pytzdata, snaptime, pendulum, dateparser, maya, loguru, stravaio\n",
            "  Attempting uninstall: regex\n",
            "    Found existing installation: regex 2022.6.2\n",
            "    Uninstalling regex-2022.6.2:\n",
            "      Successfully uninstalled regex-2022.6.2\n",
            "Successfully installed dateparser-1.1.1 loguru-0.6.0 maya-0.6.1 pendulum-2.1.2 pytzdata-2020.1 regex-2022.3.2 snaptime-0.2.4 stravaio-0.0.9\n"
          ]
        }
      ]
    },
    {
      "cell_type": "code",
      "source": [
        "import os\n",
        "import logging\n",
        "import json\n",
        "import urllib\n",
        "import requests\n",
        "import folium\n",
        "from stravaio import StravaIO\n",
        "import requests\n",
        "import urllib3\n",
        "urllib3.disable_warnings(urllib3.exceptions.InsecureRequestWarning)\n",
        "from datetime import date\n",
        "import time\n",
        "import webbrowser"
      ],
      "metadata": {
        "id": "xY2Ii816-Bxv"
      },
      "execution_count": null,
      "outputs": []
    },
    {
      "cell_type": "code",
      "source": [
        "client_id = '*****'\n",
        "client_secret = '**********'\n",
        "refresh_token = '*********'\n",
        "access_token = '**********'\n",
        "\n",
        "code = \"**********\""
      ],
      "metadata": {
        "id": "5Vlqb2t3K7-I"
      },
      "execution_count": null,
      "outputs": []
    },
    {
      "cell_type": "code",
      "source": [
        "params_oauth = {\n",
        "    \"client_id\": client_id,\n",
        "    \"response_type\": \"code\",\n",
        "    \"redirect_uri\": f\"http://localhost:8000/authorization_successful\",\n",
        "    \"scope\": \"read,profile:read_all,activity:read\",\n",
        "    \"state\": 'https://github.com/sladkovm/strava-http', # Sladkovm is the author of the Stravaio library\n",
        "    \"approval_prompt\": \"force\"\n",
        "}\n",
        "values_url = urllib.parse.urlencode(params_oauth)\n",
        "base_url = 'https://www.strava.com/oauth/authorize'\n",
        "authorize_url = base_url + '?' + values_url\n",
        "print(authorize_url)"
      ],
      "metadata": {
        "colab": {
          "base_uri": "https://localhost:8080/"
        },
        "id": "0OpXH_8o96pK",
        "outputId": "eb243470-97e5-4c0a-ad2b-a990e83fa9e6"
      },
      "execution_count": null,
      "outputs": [
        {
          "output_type": "stream",
          "name": "stdout",
          "text": [
            "https://www.strava.com/oauth/authorize?client_id=87593&response_type=code&redirect_uri=http%3A%2F%2Flocalhost%3A8000%2Fauthorization_successful&scope=read%2Cprofile%3Aread_all%2Cactivity%3Aread&state=https%3A%2F%2Fgithub.com%2Fsladkovm%2Fstrava-http&approval_prompt=force\n"
          ]
        }
      ]
    },
    {
      "cell_type": "code",
      "source": [
        "AUTHORIZATION_CODE = \"**************\""
      ],
      "metadata": {
        "id": "v-O3s5ilBbj8"
      },
      "execution_count": null,
      "outputs": []
    },
    {
      "cell_type": "code",
      "source": [
        "payload = {\n",
        "    \"client_id\": client_id,\n",
        "    \"client_secret\": client_secret,\n",
        "    \"grant_type\": \"authorization_code\",\n",
        "    \"code\": AUTHORIZATION_CODE,\n",
        "}\n",
        "\n",
        "response = requests.request(\n",
        "    \"POST\", \"https://www.strava.com/api/v3/oauth/token\", data=payload\n",
        ")\n",
        "\n",
        "response = json.loads(response.text)\n",
        "TOKEN = response[\"access_token\"]"
      ],
      "metadata": {
        "id": "8wHvOgWbHjgK"
      },
      "execution_count": null,
      "outputs": []
    },
    {
      "cell_type": "code",
      "source": [
        "client = StravaIO(access_token=TOKEN)\n",
        "athlete = client.get_logged_in_athlete()\n",
        "activities = client.get_logged_in_athlete_activities(after='last year')"
      ],
      "metadata": {
        "colab": {
          "base_uri": "https://localhost:8080/"
        },
        "id": "QuFOigbP-hhl",
        "outputId": "bd3eb4dc-5cd3-412e-d750-8d7bd544478b"
      },
      "execution_count": null,
      "outputs": [
        {
          "output_type": "stream",
          "name": "stdout",
          "text": [
            "Fetched 30, the latests is on 2021-07-29 19:16:21+00:00\n",
            "Fetched 30, the latests is on 2021-08-22 13:35:13+00:00\n",
            "Fetched 30, the latests is on 2021-09-20 15:51:13+00:00\n",
            "Fetched 30, the latests is on 2021-10-18 13:56:00+00:00\n",
            "Fetched 30, the latests is on 2021-11-24 17:35:49+00:00\n",
            "Fetched 30, the latests is on 2021-12-18 20:32:42+00:00\n",
            "Fetched 30, the latests is on 2022-01-16 16:17:00+00:00\n",
            "Fetched 30, the latests is on 2022-02-10 16:52:43+00:00\n",
            "Fetched 30, the latests is on 2022-03-09 15:02:16+00:00\n",
            "Fetched 30, the latests is on 2022-04-06 01:15:23+00:00\n",
            "Fetched 30, the latests is on 2022-05-02 15:58:11+00:00\n",
            "Fetched 30, the latests is on 2022-05-26 23:32:00+00:00\n",
            "Fetched 30, the latests is on 2022-06-29 14:00:11+00:00\n",
            "Fetched 8, the latests is on 2022-07-06 01:11:48+00:00\n"
          ]
        }
      ]
    },
    {
      "cell_type": "code",
      "source": [
        "import pandas as pd"
      ],
      "metadata": {
        "id": "BFuDoCzAPrc3"
      },
      "execution_count": null,
      "outputs": []
    },
    {
      "cell_type": "code",
      "source": [
        "column_names = [\"distance\", \"weekday\",\"start_date\"]\n",
        "\n",
        "df = pd.DataFrame(columns = column_names)\n",
        "\n",
        "for i in range(len(activities)):\n",
        "  if(activities[i].type == 'Run'):\n",
        "    df2 = {'distance': activities[i].distance, 'weekday': activities[i].start_date.weekday(),'start_date':activities[i].start_date}\n",
        "    df = df.append(df2, ignore_index = True)\n",
        "  \n"
      ],
      "metadata": {
        "id": "LpqED2whHzPs"
      },
      "execution_count": null,
      "outputs": []
    },
    {
      "cell_type": "code",
      "source": [
        "start = df[df.weekday==0].first_valid_index()\n",
        "\n",
        "#might have to switch due to long run ending on whatever day \n",
        "end = df[df.weekday==5].last_valid_index() + 1"
      ],
      "metadata": {
        "id": "u2lWlQbUZjsl"
      },
      "execution_count": null,
      "outputs": []
    },
    {
      "cell_type": "code",
      "source": [
        "df = df.iloc[start:end]"
      ],
      "metadata": {
        "id": "srC_4SangnXO"
      },
      "execution_count": null,
      "outputs": []
    },
    {
      "cell_type": "code",
      "source": [
        "df = df.reset_index()"
      ],
      "metadata": {
        "id": "CqeaRAaifbLN"
      },
      "execution_count": null,
      "outputs": []
    },
    {
      "cell_type": "code",
      "source": [
        "del df['index']"
      ],
      "metadata": {
        "id": "DFBy3KBttMfW"
      },
      "execution_count": null,
      "outputs": []
    },
    {
      "cell_type": "code",
      "source": [
        "column_names = [\"Mon\",\"m2\",\"Tues\",\"tu2\",\"Wed\",\"w2\",\"Thurs\",\"th2\",\"Fri\",\"f2\",\"Sat\",\"sa2\",\"Sun\",\"su2\"]\n",
        "\n",
        "ml_df = pd.DataFrame(columns = column_names)"
      ],
      "metadata": {
        "id": "g0QHa03iiO_i"
      },
      "execution_count": null,
      "outputs": []
    },
    {
      "cell_type": "code",
      "source": [
        "j = 0\n",
        "ml_df.loc[j, ml_df.iloc[:,2 * df.loc[0].weekday].name] = df.loc[0].distance / 1609"
      ],
      "metadata": {
        "id": "VCsT7FDff3HZ"
      },
      "execution_count": null,
      "outputs": []
    },
    {
      "cell_type": "code",
      "source": [
        "j = 0 #current row value / doesn't entirely work but whatever \n",
        "for i in range(len(df)-1): #always adding / analyzing value i+1\n",
        "\n",
        "  #if value < prev_value\n",
        "  if(df.loc[i+1].weekday < df.loc[i].weekday):\n",
        "    j = j + 1 #new row & add the value into new row\n",
        "    ml_df.loc[j, ml_df.iloc[:,2 * df.loc[i+1].weekday].name] = df.loc[i+1].distance / 1609\n",
        "    continue\n",
        "\n",
        "  # value > 7 day = new row / this shouldn't impact my data specfically (never had a week fully off)\n",
        "  if(df.loc[i+1].start_date.day - df.loc[i].start_date.day > 6 and df.loc[i+1].start_date.month == df.loc[i].start_date.month):\n",
        "    j = j + 1 \n",
        "    ml_df.loc[j, ml_df.iloc[:,2 * df.loc[i+1].weekday].name] = df.loc[i+1].distance / 1609\n",
        "    continue\n",
        "\n",
        "  if(df.loc[i+1].weekday == df.loc[i].weekday):\n",
        "    if(df.loc[i+1].start_date.hour - df.loc[i].start_date.hour > 6): #6 hour difference = double \n",
        "      ml_df.loc[j, ml_df.iloc[:,2 * df.loc[i+1].weekday + 1].name] = df.loc[i+1].distance / 1609\n",
        "\n",
        "    else: \n",
        "      ml_df.loc[j, ml_df.iloc[:,2 * df.loc[i+1].weekday].name] = df.loc[i].distance / 1609 + df.loc[i+1].distance / 1609\n",
        "  \n",
        "  else: \n",
        "    ml_df.loc[j, ml_df.iloc[:,2 * df.loc[i+1].weekday].name] = df.loc[i+1].distance / 1609\n",
        "\n",
        "\n",
        "ml_df = ml_df.fillna(0)\n",
        "ml_df = ml_df.sort_index()"
      ],
      "metadata": {
        "id": "Xc4KlmF4rDj9"
      },
      "execution_count": null,
      "outputs": []
    },
    {
      "cell_type": "code",
      "source": [
        "pd.set_option('display.max_rows', 500)\n",
        "pd.set_option('display.max_columns', 500)\n",
        "pd.set_option('display.width', 150)"
      ],
      "metadata": {
        "id": "L3Pv4zcHlrWd"
      },
      "execution_count": null,
      "outputs": []
    },
    {
      "cell_type": "code",
      "source": [
        "tot_dist = ml_df.sum(axis = 1)"
      ],
      "metadata": {
        "id": "sPtYqqMOn-CO"
      },
      "execution_count": null,
      "outputs": []
    },
    {
      "cell_type": "code",
      "source": [
        "import numpy as np\n",
        "from sklearn.linear_model import LinearRegression\n",
        "from sklearn.model_selection import train_test_split\n",
        "\n",
        "x_train, x_test, y_train, y_test = train_test_split(tot_dist.to_numpy().reshape(-1,1), ml_df, test_size = 0.3, random_state=0)\n",
        "data = LinearRegression()\n",
        "#x_train = tot_dist.to_numpy().reshape(-1,1)\n",
        "data.fit(x_train, y_train)\n",
        "y_pred = data.predict(x_test)\n",
        "print(y_pred)"
      ],
      "metadata": {
        "colab": {
          "base_uri": "https://localhost:8080/"
        },
        "id": "b_wGXVNz0DC9",
        "outputId": "30dd2e89-5d9b-4818-c6bc-5ce81b1bd76c"
      },
      "execution_count": null,
      "outputs": [
        {
          "output_type": "stream",
          "name": "stdout",
          "text": [
            "[[ 8.88979864  0.35185149  9.26639046  0.52247334  9.21476453  1.42063984\n",
            "   7.99710969  0.83549795  9.27495308  0.3473985   4.49598801  0.71782546\n",
            "  12.02330936  0.36630047]\n",
            " [ 9.3116303   0.40445147  9.69809736  0.59463069  9.92892794  1.5460691\n",
            "   8.6072627   0.94672289 10.00001105  0.34859759  4.66138166  0.80721638\n",
            "  12.96317527  0.36175103]\n",
            " [ 8.54443578  0.30878672  8.91294251  0.46339653  8.63006322  1.31794814\n",
            "   7.49756398  0.74443564  8.68133215  0.34641679  4.36057659  0.64463914\n",
            "  11.25382045  0.3700252 ]\n",
            " [ 8.83676592  0.34523861  9.21211622  0.51340171  9.12497983  1.40487086\n",
            "   7.92040119  0.82151474  9.18379871  0.34724775  4.47519471  0.70658722\n",
            "  11.90514932  0.36687243]\n",
            " [ 8.62717694  0.31910407  8.99762068  0.47755     8.77014448  1.34255076\n",
            "   7.61724388  0.76625212  8.82355035  0.34665198  4.39301812  0.66217293\n",
            "  11.43817266  0.36913284]\n",
            " [ 9.2991797   0.40289895  9.68535529  0.59250093  9.90784901  1.54236698\n",
            "   8.5892537   0.94344002  9.97861056  0.3485622   4.65649997  0.80457795\n",
            "  12.9354346   0.36188531]\n",
            " [ 4.92402445 -0.14265774  5.20777589 -0.15590099  2.50068609  0.24143928\n",
            "   2.26086623 -0.21016324  2.45845135  0.33612553  2.94106949 -0.12256716\n",
            "   3.18732957  0.40907127]\n",
            " [ 7.30939064  0.1547837   7.64898447  0.25213314  6.53912473  0.95071444\n",
            "   5.71114871  0.41878958  6.55849638  0.34290609  3.87633456  0.38291904\n",
            "   8.50206673  0.38334514]\n",
            " [ 9.3113714   0.40441918  9.6978324   0.59458641  9.92848962  1.54599211\n",
            "   8.60688823  0.94665462  9.99956605  0.34859685  4.66128015  0.80716151\n",
            "  12.96259844  0.36175382]\n",
            " [ 8.82535091  0.34381522  9.20043398  0.51144909  9.10565415  1.40147667\n",
            "   7.9038901   0.81850493  9.16417822  0.34721531  4.47071906  0.70416825\n",
            "  11.879716    0.36699554]\n",
            " [ 6.70494826  0.07941321  7.03039185  0.1487389   5.51580031  0.77098691\n",
            "   4.83686075  0.25941541  5.51956115  0.34118792  3.63934208  0.25483083\n",
            "   7.15533331  0.38986404]\n",
            " [ 8.8241388   0.34366408  9.1991935   0.51124175  9.10360205  1.40111625\n",
            "   7.90213686  0.81818533  9.16209481  0.34721186  4.47024381  0.70391139\n",
            "  11.87701535  0.36700861]\n",
            " [ 9.26810028  0.39902352  9.65354829  0.58718457  9.85523137  1.53312569\n",
            "   8.54429926  0.93524527  9.92519024  0.34847385  4.64431421  0.79799187\n",
            "  12.86618781  0.3622205 ]\n",
            " [ 7.716524    0.20555089  8.06564899  0.32177624  7.22840384  1.07177325\n",
            "   6.30004156  0.52613899  7.25829045  0.34406339  4.03596523  0.46919523\n",
            "   9.40918397  0.37895422]\n",
            " [ 8.06864173  0.24945794  8.42600993  0.38200852  7.82454116  1.17647346\n",
            "   6.80935775  0.61898236  7.86352185  0.34506431  4.17402513  0.54381297\n",
            "  10.19372312  0.37515663]\n",
            " [ 8.88751564  0.35156681  9.26405401  0.52208282  9.21089939  1.419961\n",
            "   7.99380747  0.83489599  9.27102898  0.34739201  4.49509288  0.71734166\n",
            "  12.0182227   0.36632509]]\n"
          ]
        }
      ]
    },
    {
      "cell_type": "code",
      "source": [
        "#whatever total mileage you need to run for the week\n",
        "data.predict([[75]])"
      ],
      "metadata": {
        "colab": {
          "base_uri": "https://localhost:8080/"
        },
        "id": "RECCaLXp4BU8",
        "outputId": "6985f3a2-9923-405a-8a90-c60d6ae1df38"
      },
      "execution_count": null,
      "outputs": [
        {
          "output_type": "execute_result",
          "data": {
            "text/plain": [
              "array([[ 9.76796588,  0.46135389, 10.16511594,  0.67269019, 10.70150669,\n",
              "         1.6817579 ,  9.26732348,  1.06704552, 10.7843755 ,  0.34989475,\n",
              "         4.84030376,  0.90391907, 13.97991797,  0.35682946]])"
            ]
          },
          "metadata": {},
          "execution_count": 26
        }
      ]
    },
    {
      "cell_type": "markdown",
      "source": [
        "For the most part quite accurate, aside from wanting to double everyday, I have found that you could combine the miles from the doubles to one / two days. But it does show Sunday Long Run (longest run of the week), Saturday as low mileage easy day, Wednesday as 2nd longest run of the week. And monday/tues/thurs as around the same distance and used for getting some miles in. "
      ],
      "metadata": {
        "id": "V2MC1qVe68Rr"
      }
    }
  ]
}